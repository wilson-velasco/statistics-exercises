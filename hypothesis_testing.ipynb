{
 "cells": [
  {
   "cell_type": "markdown",
   "id": "cfda0c95",
   "metadata": {},
   "source": [
    "For each of the following questions, formulate a null and alternative hypothesis (be as specific as you can be), then give an example of what a true positive, true negative, type I and type II errors would look like. Note that some of the questions are intentionally phrased in a vague way. It is your job to reword these as more precise questions that could be tested."
   ]
  },
  {
   "cell_type": "markdown",
   "id": "66ce841b",
   "metadata": {},
   "source": [
    "Has the network latency gone up since we switched internet service providers?\n",
    "\n",
    "H0 - There has been no difference in network latency since switching internet service providers.\n",
    "Ha - There is a noticeable increase in network latency since switching ISPs.\n",
    "\n",
    "True Positive - We are confident that there is a noticeable increase in network latency (and there is a network latency)\n",
    "True Negative - We fail to reject the null hypothesis (and there is no actual difference in latency)\n",
    "Type I Error - We are confident that there is a noticeable increase in network latency (but there isn't actually)\n",
    "Type II Error - We fail to reject the null hypothesis (but there was an actual difference/increase in latency)."
   ]
  },
  {
   "cell_type": "markdown",
   "id": "a597b9ee",
   "metadata": {},
   "source": [
    "Is the website redesign any good?\n",
    "\n",
    "H0 - There has been no difference in website traffic since the website redesign was deployed.\n",
    "Ha - There has been an increase in website traffic since the website redesign was deployed.\n",
    "\n",
    "True Positive - We are confident that there is an increase in website traffice since the redesign was deployed (and there is an actual increase in traffic).\n",
    "True Negative - We fail to reject the null hypothesis (and there is no actual difference in website traffic).\n",
    "Type I Error - We are confident that there is an increase (but there wasn't actually a difference)\n",
    "Type II Error - We fail to reject the null hypothesis (but there actually was a difference in website traffic)."
   ]
  },
  {
   "cell_type": "markdown",
   "id": "c6243fcf",
   "metadata": {},
   "source": [
    "Is our television ad driving more sales?\n",
    "\n",
    "H0 - There has been no difference in sales since the television ad was aired.\n",
    "Ha - There has been an increase in sales since the television ad was aired.\n",
    "\n",
    "True Positive - We are confident that there is an increase in sales since the ad was aired (and there is an increase in sales since ad was aired).\n",
    "True Negative - We fail to reject the null hypothesis (and there is no actual difference in sales since it was aired).\n",
    "Type I Error - We are confident that there is an increase in sales (but there wasn't actually a difference). \n",
    "Type II Error - We fail to reject the null hypothesis (but there was a difference/increase since it aired)."
   ]
  },
  {
   "cell_type": "markdown",
   "id": "629b42dd",
   "metadata": {},
   "source": [
    "1. Answer with the type of test you would use (assume normal distribution):\n",
    "\n",
    "- Is there a difference in grades of students on the second floor compared to grades of all students?\n",
    "\n",
    "> One-Sample T Test, Two-Tail (since we're looking for any difference)\n",
    "\n",
    "- Are adults who drink milk taller than adults who dont drink milk?\n",
    "\n",
    "> Two-Sample T Test, One-Tail (since we're looking for taller, i.e. one-way)\n",
    "\n",
    "- Is the the price of gas higher in texas or in new mexico?\n",
    "\n",
    "> Two-Sample T Test, One-Tail (since we're looking for higher, i.e. one-way)\n",
    "\n",
    "- Are there differences in stress levels between students who take data science vs students who take web development \n",
    "vs students who take cloud academy?\n",
    "\n",
    "> ANOVA, Two-Tail (since we're looking for any difference)"
   ]
  },
  {
   "cell_type": "markdown",
   "id": "a4814e32",
   "metadata": {},
   "source": [
    "2. Ace Realty wants to determine whether the average time it takes to sell homes is different for its two offices. A sample of 40 sales from office #1 revealed a mean of 90 days and a standard deviation of 15 days. A sample of 50 sales from office #2 revealed a mean of 100 days and a standard deviation of 20 days. Use a .05 level of significance."
   ]
  },
  {
   "cell_type": "code",
   "execution_count": 1,
   "id": "6f040593",
   "metadata": {},
   "outputs": [],
   "source": [
    "import pandas as pd\n",
    "import numpy as np\n",
    "import seaborn as sns\n",
    "import matplotlib.pyplot as plt\n",
    "import scipy.stats as stats"
   ]
  },
  {
   "cell_type": "code",
   "execution_count": 76,
   "id": "568431fe",
   "metadata": {},
   "outputs": [],
   "source": [
    "office_1 = np.random.normal(90, 15, 40)\n",
    "office_2 = np.random.normal(100, 20, 50)"
   ]
  },
  {
   "cell_type": "markdown",
   "id": "cb6c011e",
   "metadata": {},
   "source": [
    "$H_0$: Mean of average time to sell homes for office 1 = that of office 2\n",
    "\n",
    "$H_a$: There is a difference in the average time to sell homes for office 1 and office 2"
   ]
  },
  {
   "cell_type": "code",
   "execution_count": 77,
   "id": "4ed613ea",
   "metadata": {},
   "outputs": [
    {
     "data": {
      "image/png": "[encoded data removed]",
      "text/plain": [
       "<Figure size 640x480 with 2 Axes>"
      ]
     },
     "metadata": {},
     "output_type": "display_data"
    }
   ],
   "source": [
    "plt.subplot(121) # Just to plot histograms to verify normal(ish) distribution after putting values in np.random.normal()\n",
    "plt.hist(office_1)\n",
    "\n",
    "plt.subplot(122)\n",
    "plt.hist(office_2)\n",
    "plt.show()"
   ]
  },
  {
   "cell_type": "code",
   "execution_count": 78,
   "id": "9fc168ae",
   "metadata": {},
   "outputs": [
    {
     "data": {
      "text/plain": [
       "(227.997153290838, 366.52880217039694)"
      ]
     },
     "execution_count": 78,
     "metadata": {},
     "output_type": "execute_result"
    }
   ],
   "source": [
    "office_1.var(), office_2.var() #Checking for whether variances are equal or different to set in 2-sample t test function"
   ]
  },
  {
   "cell_type": "code",
   "execution_count": 79,
   "id": "a6f3bad9",
   "metadata": {},
   "outputs": [
    {
     "data": {
      "text/plain": [
       "LeveneResult(statistic=1.1562406173229618, pvalue=0.2851859313038022)"
      ]
     },
     "execution_count": 79,
     "metadata": {},
     "output_type": "execute_result"
    }
   ],
   "source": [
    "stats.levene(office_1, office_2) #Because p-value is so high, we will set equal_var equal to True (default, so no need to state explicitly)"
   ]
  },
  {
   "cell_type": "code",
   "execution_count": 80,
   "id": "0e5881e0",
   "metadata": {},
   "outputs": [],
   "source": [
    "α = 0.05\n",
    "ttest, p = stats.ttest_ind(office_1, office_2)"
   ]
  },
  {
   "cell_type": "code",
   "execution_count": 81,
   "id": "80cfdab0",
   "metadata": {},
   "outputs": [
    {
     "data": {
      "text/plain": [
       "(-2.622578403136792, 0.010283679581180373)"
      ]
     },
     "execution_count": 81,
     "metadata": {},
     "output_type": "execute_result"
    }
   ],
   "source": [
    "ttest, p"
   ]
  },
  {
   "cell_type": "code",
   "execution_count": 82,
   "id": "9d61b5bc",
   "metadata": {},
   "outputs": [
    {
     "name": "stdout",
     "output_type": "stream",
     "text": [
      "We reject the null hypothesis\n"
     ]
    }
   ],
   "source": [
    "if p > α:\n",
    "    print('We fail to reject the null hypothesis')\n",
    "else:\n",
    "    print('We reject the null hypothesis')"
   ]
  },
  {
   "cell_type": "markdown",
   "id": "81735d8e",
   "metadata": {},
   "source": [
    "3. Load the mpg dataset and use it to answer the following questions:"
   ]
  },
  {
   "cell_type": "code",
   "execution_count": 33,
   "id": "6ae8c251",
   "metadata": {},
   "outputs": [
    {
     "data": {
      "text/html": [
       "<div>\n",
       "<style scoped>\n",
       "    .dataframe tbody tr th:only-of-type {\n",
       "        vertical-align: middle;\n",
       "    }\n",
       "\n",
       "    .dataframe tbody tr th {\n",
       "        vertical-align: top;\n",
       "    }\n",
       "\n",
       "    .dataframe thead th {\n",
       "        text-align: right;\n",
       "    }\n",
       "</style>\n",
       "<table border=\"1\" class=\"dataframe\">\n",
       "  <thead>\n",
       "    <tr style=\"text-align: right;\">\n",
       "      <th></th>\n",
       "      <th>manufacturer</th>\n",
       "      <th>model</th>\n",
       "      <th>displ</th>\n",
       "      <th>year</th>\n",
       "      <th>cyl</th>\n",
       "      <th>trans</th>\n",
       "      <th>drv</th>\n",
       "      <th>cty</th>\n",
       "      <th>hwy</th>\n",
       "      <th>fl</th>\n",
       "      <th>class</th>\n",
       "    </tr>\n",
       "  </thead>\n",
       "  <tbody>\n",
       "    <tr>\n",
       "      <th>1</th>\n",
       "      <td>audi</td>\n",
       "      <td>a4</td>\n",
       "      <td>1.8</td>\n",
       "      <td>1999</td>\n",
       "      <td>4</td>\n",
       "      <td>auto(l5)</td>\n",
       "      <td>f</td>\n",
       "      <td>18</td>\n",
       "      <td>29</td>\n",
       "      <td>p</td>\n",
       "      <td>compact</td>\n",
       "    </tr>\n",
       "    <tr>\n",
       "      <th>2</th>\n",
       "      <td>audi</td>\n",
       "      <td>a4</td>\n",
       "      <td>1.8</td>\n",
       "      <td>1999</td>\n",
       "      <td>4</td>\n",
       "      <td>manual(m5)</td>\n",
       "      <td>f</td>\n",
       "      <td>21</td>\n",
       "      <td>29</td>\n",
       "      <td>p</td>\n",
       "      <td>compact</td>\n",
       "    </tr>\n",
       "    <tr>\n",
       "      <th>3</th>\n",
       "      <td>audi</td>\n",
       "      <td>a4</td>\n",
       "      <td>2.0</td>\n",
       "      <td>2008</td>\n",
       "      <td>4</td>\n",
       "      <td>manual(m6)</td>\n",
       "      <td>f</td>\n",
       "      <td>20</td>\n",
       "      <td>31</td>\n",
       "      <td>p</td>\n",
       "      <td>compact</td>\n",
       "    </tr>\n",
       "    <tr>\n",
       "      <th>4</th>\n",
       "      <td>audi</td>\n",
       "      <td>a4</td>\n",
       "      <td>2.0</td>\n",
       "      <td>2008</td>\n",
       "      <td>4</td>\n",
       "      <td>auto(av)</td>\n",
       "      <td>f</td>\n",
       "      <td>21</td>\n",
       "      <td>30</td>\n",
       "      <td>p</td>\n",
       "      <td>compact</td>\n",
       "    </tr>\n",
       "    <tr>\n",
       "      <th>5</th>\n",
       "      <td>audi</td>\n",
       "      <td>a4</td>\n",
       "      <td>2.8</td>\n",
       "      <td>1999</td>\n",
       "      <td>6</td>\n",
       "      <td>auto(l5)</td>\n",
       "      <td>f</td>\n",
       "      <td>16</td>\n",
       "      <td>26</td>\n",
       "      <td>p</td>\n",
       "      <td>compact</td>\n",
       "    </tr>\n",
       "  </tbody>\n",
       "</table>\n",
       "</div>"
      ],
      "text/plain": [
       "  manufacturer model  displ  year  cyl       trans drv  cty  hwy fl    class\n",
       "1         audi    a4    1.8  1999    4    auto(l5)   f   18   29  p  compact\n",
       "2         audi    a4    1.8  1999    4  manual(m5)   f   21   29  p  compact\n",
       "3         audi    a4    2.0  2008    4  manual(m6)   f   20   31  p  compact\n",
       "4         audi    a4    2.0  2008    4    auto(av)   f   21   30  p  compact\n",
       "5         audi    a4    2.8  1999    6    auto(l5)   f   16   26  p  compact"
      ]
     },
     "execution_count": 33,
     "metadata": {},
     "output_type": "execute_result"
    }
   ],
   "source": [
    "from pydataset import data\n",
    "\n",
    "mpg = data('mpg')\n",
    "mpg.head()"
   ]
  },
  {
   "cell_type": "code",
   "execution_count": 39,
   "id": "ed4fc956",
   "metadata": {},
   "outputs": [],
   "source": [
    "mpg['avg_mileage'] = mpg[['cty','hwy']].mean(axis=1) #To compare fuel effiency in cars for following questions"
   ]
  },
  {
   "cell_type": "code",
   "execution_count": null,
   "id": "3aae649b",
   "metadata": {},
   "outputs": [],
   "source": [
    "# Is there a difference in fuel-efficiency in cars from 2008 vs 1999?"
   ]
  },
  {
   "cell_type": "markdown",
   "id": "8dc11754",
   "metadata": {},
   "source": [
    "$H_0$: There is no difference in fuel-efficiency in cars from 2008 and 1999.\n",
    "\n",
    "$H_\\alpha$: There is a difference between the two."
   ]
  },
  {
   "cell_type": "code",
   "execution_count": 68,
   "id": "aae24638",
   "metadata": {},
   "outputs": [
    {
     "data": {
      "image/png": "[encoded data removed]",
      "text/plain": [
       "<Figure size 640x480 with 2 Axes>"
      ]
     },
     "metadata": {},
     "output_type": "display_data"
    },
    {
     "name": "stdout",
     "output_type": "stream",
     "text": [
      "LeveneResult(statistic=0.033228136671080453, pvalue=0.855517569468803)\n",
      "1999    117\n",
      "2008    117\n",
      "Name: year, dtype: int64\n"
     ]
    }
   ],
   "source": [
    "# Several checks here. \n",
    "# 1) Check for normal-ish distribution.\n",
    "# 2) Check value counts to ensure sample size above 30.\n",
    "# 3) Check variance to determine whether I want to put equal_var = False to the above.\n",
    "\n",
    "plt.subplot(121)\n",
    "plt.hist(mpg.avg_mileage[mpg.year == 1999])\n",
    "plt.subplot(122)\n",
    "plt.hist(mpg.avg_mileage[mpg.year == 2008])\n",
    "plt.show()\n",
    "\n",
    "print(stats.levene((mpg.avg_mileage[mpg.year == 1999]),(mpg.avg_mileage[mpg.year == 2008])))\n",
    "print(mpg.year.value_counts())"
   ]
  },
  {
   "cell_type": "markdown",
   "id": "166a0c1a",
   "metadata": {},
   "source": [
    "Because the p-value is greater than α, we'll put equal_var set to True (i.e. not put anything since True is default)."
   ]
  },
  {
   "cell_type": "code",
   "execution_count": 71,
   "id": "2aafd236",
   "metadata": {},
   "outputs": [
    {
     "data": {
      "text/plain": [
       "Ttest_indResult(statistic=0.21960177245940962, pvalue=0.8263744040323578)"
      ]
     },
     "execution_count": 71,
     "metadata": {},
     "output_type": "execute_result"
    }
   ],
   "source": [
    "stats.ttest_ind((mpg.avg_mileage[mpg.year == 1999]),(mpg.avg_mileage[mpg.year == 2008]))"
   ]
  },
  {
   "cell_type": "markdown",
   "id": "559949b4",
   "metadata": {},
   "source": [
    "Because the p-value is greater than .05, we fail to reject the null hypothesis.\n",
    "\n",
    "I.e. there is no difference in fuel effciency between cars produced in 1998 vs. 2008."
   ]
  },
  {
   "cell_type": "code",
   "execution_count": 83,
   "id": "72b1d438",
   "metadata": {},
   "outputs": [],
   "source": [
    "# Are compact cars more fuel-efficient than the average car?"
   ]
  },
  {
   "cell_type": "markdown",
   "id": "90993c32",
   "metadata": {},
   "source": [
    "$H_0$: There is no difference in efficiency between compact cars and the average car.\n",
    "\n",
    "$H_\\alpha$: Compact cars are more fuel-efficient than the average car."
   ]
  },
  {
   "cell_type": "code",
   "execution_count": 75,
   "id": "207f792b",
   "metadata": {},
   "outputs": [
    {
     "data": {
      "image/png": "[encoded data removed]",
      "text/plain": [
       "<Figure size 640x480 with 2 Axes>"
      ]
     },
     "metadata": {},
     "output_type": "display_data"
    },
    {
     "name": "stdout",
     "output_type": "stream",
     "text": [
      "suv           62\n",
      "compact       47\n",
      "midsize       41\n",
      "subcompact    35\n",
      "pickup        33\n",
      "minivan       11\n",
      "2seater        5\n",
      "Name: class, dtype: int64\n"
     ]
    }
   ],
   "source": [
    "# Same checks as above exccept for Levene test.\n",
    "\n",
    "plt.subplot(121)\n",
    "plt.hist(mpg.avg_mileage[mpg['class'] == 'compact'])\n",
    "plt.subplot(122)\n",
    "plt.hist(mpg.avg_mileage)\n",
    "plt.show()\n",
    "\n",
    "# No need for Levene test since it's a one-sample t-test\n",
    "print(mpg['class'].value_counts())"
   ]
  },
  {
   "cell_type": "code",
   "execution_count": 74,
   "id": "324d7be6",
   "metadata": {},
   "outputs": [
    {
     "data": {
      "text/plain": [
       "Ttest_1sampResult(statistic=7.896888573132533, pvalue=4.198563794317163e-10)"
      ]
     },
     "execution_count": 74,
     "metadata": {},
     "output_type": "execute_result"
    }
   ],
   "source": [
    "#Because we're comparing to the average car, just one-sample t test is needed.\n",
    "\n",
    "stats.ttest_1samp((mpg.avg_mileage[mpg['class'] == 'compact']), (mpg.avg_mileage).mean())"
   ]
  },
  {
   "cell_type": "markdown",
   "id": "6d3ae044",
   "metadata": {},
   "source": [
    "Because p-value is so low, we can reject the null hypothesis."
   ]
  },
  {
   "cell_type": "code",
   "execution_count": 60,
   "id": "4242f79a",
   "metadata": {},
   "outputs": [],
   "source": [
    "# Do manual cars get better gas mileage than automatic cars?\n",
    "\n",
    "mpg['auto_man'] = np.where(mpg.trans.str.contains('auto'), 'auto', 'man')\n",
    "\n",
    "#To get classes of transmission type"
   ]
  },
  {
   "cell_type": "code",
   "execution_count": 63,
   "id": "6b86d1c2",
   "metadata": {},
   "outputs": [
    {
     "data": {
      "text/plain": [
       "auto    157\n",
       "man      77\n",
       "Name: auto_man, dtype: int64"
      ]
     },
     "execution_count": 63,
     "metadata": {},
     "output_type": "execute_result"
    }
   ],
   "source": [
    "mpg.auto_man.value_counts() #to check if we can state if there are enough samples to assume normal distribution"
   ]
  },
  {
   "cell_type": "code",
   "execution_count": 85,
   "id": "8a82159d",
   "metadata": {},
   "outputs": [
    {
     "data": {
      "text/plain": [
       "LeveneResult(statistic=0.20075824847529639, pvalue=0.6545276355131857)"
      ]
     },
     "execution_count": 85,
     "metadata": {},
     "output_type": "execute_result"
    }
   ],
   "source": [
    "stats.levene((mpg.avg_mileage[mpg.auto_man == 'man']),(mpg.avg_mileage[mpg.auto_man == 'auto'])) #equal_var is True"
   ]
  },
  {
   "cell_type": "code",
   "execution_count": 86,
   "id": "b97b26e9",
   "metadata": {},
   "outputs": [
    {
     "data": {
      "text/plain": [
       "Ttest_indResult(statistic=4.593437735750014, pvalue=7.154374401145683e-06)"
      ]
     },
     "execution_count": 86,
     "metadata": {},
     "output_type": "execute_result"
    }
   ],
   "source": [
    "stats.ttest_ind((mpg.avg_mileage[mpg.auto_man == 'man']),(mpg.avg_mileage[mpg.auto_man == 'auto']))"
   ]
  },
  {
   "cell_type": "markdown",
   "id": "f9b05920",
   "metadata": {},
   "source": [
    "Because we're looking at a \"certain direction\" (i.e. whether manual gets better/higher mpg than auto), we will check to see if p-value divided by two is less than the alpha. Since the p-value is lower than .025 (alpha is .05), then we can reject the null hypothesis."
   ]
  }
 ],
 "metadata": {
  "kernelspec": {
   "display_name": "Python 3 (ipykernel)",
   "language": "python",
   "name": "python3"
  },
  "language_info": {
   "codemirror_mode": {
    "name": "ipython",
    "version": 3
   },
   "file_extension": ".py",
   "mimetype": "text/x-python",
   "name": "python",
   "nbconvert_exporter": "python",
   "pygments_lexer": "ipython3",
   "version": "3.9.13"
  }
 },
 "nbformat": 4,
 "nbformat_minor": 5
}
