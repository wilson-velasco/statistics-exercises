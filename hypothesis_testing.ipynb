{
 "cells": [
  {
   "cell_type": "markdown",
   "id": "cfda0c95",
   "metadata": {},
   "source": [
    "For each of the following questions, formulate a null and alternative hypothesis (be as specific as you can be), then give an example of what a true positive, true negative, type I and type II errors would look like. Note that some of the questions are intentionally phrased in a vague way. It is your job to reword these as more precise questions that could be tested."
   ]
  },
  {
   "cell_type": "markdown",
   "id": "66ce841b",
   "metadata": {},
   "source": [
    "Has the network latency gone up since we switched internet service providers?\n",
    "\n",
    "H0 - There has been no difference in network latency since switching internet service providers.\n",
    "Ha - There is a noticeable increase in network latency since switching ISPs.\n",
    "\n",
    "True Positive - We are confident that there is a noticeable increase in network latency (and there is a network latency)\n",
    "True Negative - We fail to reject the null hypothesis (and there is no actual difference in latency)\n",
    "Type I Error - We are confident that there is a noticeable increase in network latency (but there isn't actually)\n",
    "Type II Error - We fail to reject the null hypothesis (but there was an actual difference/increase in latency)."
   ]
  },
  {
   "cell_type": "markdown",
   "id": "a597b9ee",
   "metadata": {},
   "source": [
    "Is the website redesign any good?\n",
    "\n",
    "H0 - There has been no difference in website traffic since the website redesign was deployed.\n",
    "Ha - There has been an increase in website traffic since the website redesign was deployed.\n",
    "\n",
    "True Positive - We are confident that there is an increase in website traffice since the redesign was deployed (and there is an actual increase in traffic).\n",
    "True Negative - We fail to reject the null hypothesis (and there is no actual difference in website traffic).\n",
    "Type I Error - We are confident that there is an increase (but there wasn't actually a difference)\n",
    "Type II Error - We fail to reject the null hypothesis (but there actually was a difference in website traffic)."
   ]
  },
  {
   "cell_type": "markdown",
   "id": "c6243fcf",
   "metadata": {},
   "source": [
    "Is our television ad driving more sales?\n",
    "\n",
    "H0 - There has been no difference in sales since the television ad was aired.\n",
    "Ha - There has been an increase in sales since the television ad was aired.\n",
    "\n",
    "True Positive - We are confident that there is an increase in sales since the ad was aired (and there is an increase in sales since ad was aired).\n",
    "True Negative - We fail to reject the null hypothesis (and there is no actual difference in sales since it was aired).\n",
    "Type I Error - We are confident that there is an increase in sales (but there wasn't actually a difference). \n",
    "Type II Error - We fail to reject the null hypothesis (but there was a difference/increase since it aired)."
   ]
  }
 ],
 "metadata": {
  "kernelspec": {
   "display_name": "Python 3 (ipykernel)",
   "language": "python",
   "name": "python3"
  },
  "language_info": {
   "codemirror_mode": {
    "name": "ipython",
    "version": 3
   },
   "file_extension": ".py",
   "mimetype": "text/x-python",
   "name": "python",
   "nbconvert_exporter": "python",
   "pygments_lexer": "ipython3",
   "version": "3.9.13"
  }
 },
 "nbformat": 4,
 "nbformat_minor": 5
}
