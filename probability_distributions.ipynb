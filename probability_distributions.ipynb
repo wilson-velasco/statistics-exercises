{
 "cells": [
  {
   "cell_type": "code",
   "execution_count": 1,
   "id": "452fb41a",
   "metadata": {},
   "outputs": [],
   "source": [
    "import pandas as pd\n",
    "import numpy as np\n",
    "import matplotlib.pyplot as plt\n",
    "from scipy import stats"
   ]
  },
  {
   "cell_type": "code",
   "execution_count": 9,
   "id": "f2103472",
   "metadata": {},
   "outputs": [],
   "source": [
    "# 1. A bank found that the average number of cars waiting during the noon hour at a drive-up window follows a Poisson \n",
    "# distribution with a mean of 2 cars. Make a chart of this distribution and answer these questions concerning the \n",
    "# probability of cars waiting at the drive-up window.\n",
    "\n",
    "cars = stats.poisson(2)"
   ]
  },
  {
   "cell_type": "code",
   "execution_count": 62,
   "id": "7dce9311",
   "metadata": {},
   "outputs": [
    {
     "data": {
      "image/png": "[encoded data removed]",
      "text/plain": [
       "<Figure size 640x480 with 1 Axes>"
      ]
     },
     "metadata": {},
     "output_type": "display_data"
    }
   ],
   "source": [
    "pd.Series(cars.rvs(10_000)).plot.hist(bins=10);"
   ]
  },
  {
   "cell_type": "code",
   "execution_count": 10,
   "id": "37c5c0fa",
   "metadata": {},
   "outputs": [
    {
     "data": {
      "text/plain": [
       "0.1353352832366127"
      ]
     },
     "execution_count": 10,
     "metadata": {},
     "output_type": "execute_result"
    }
   ],
   "source": [
    "# What is the probability that no cars drive up in the noon hour?\n",
    "\n",
    "cars.pmf(0) #probability of one, discrete value, use pmf"
   ]
  },
  {
   "cell_type": "code",
   "execution_count": 11,
   "id": "46652c79",
   "metadata": {},
   "outputs": [
    {
     "data": {
      "text/plain": [
       "0.32332358381693654"
      ]
     },
     "execution_count": 11,
     "metadata": {},
     "output_type": "execute_result"
    }
   ],
   "source": [
    "# What is the probability that 3 or more cars come through the drive through?\n",
    "\n",
    "cars.sf(2) #probability of multiple values, greater than, use sf"
   ]
  },
  {
   "cell_type": "code",
   "execution_count": 12,
   "id": "a4cee42a",
   "metadata": {},
   "outputs": [
    {
     "data": {
      "text/plain": [
       "0.8646647167633873"
      ]
     },
     "execution_count": 12,
     "metadata": {},
     "output_type": "execute_result"
    }
   ],
   "source": [
    "# How likely is it that the drive through gets at least 1 car?\n",
    "\n",
    "cars.sf(0)"
   ]
  },
  {
   "cell_type": "code",
   "execution_count": 14,
   "id": "8786a4dc",
   "metadata": {},
   "outputs": [
    {
     "data": {
      "text/plain": [
       "3.4934560880854417"
      ]
     },
     "execution_count": 14,
     "metadata": {},
     "output_type": "execute_result"
    }
   ],
   "source": [
    "# 2. # Grades of State University graduates are normally distributed with a mean of 3.0 and a standard deviation \n",
    "# of .3. Calculate the following:\n",
    "\n",
    "# What grade point average is required to be in the top 5% of the graduating class?\n",
    "\n",
    "mean = 3\n",
    "sd = .3\n",
    "\n",
    "grades = stats.norm(mean, sd)\n",
    "\n",
    "grades.isf(.05)"
   ]
  },
  {
   "cell_type": "code",
   "execution_count": 15,
   "id": "84117227",
   "metadata": {},
   "outputs": [
    {
     "data": {
      "text/plain": [
       "2.689069983151863"
      ]
     },
     "execution_count": 15,
     "metadata": {},
     "output_type": "execute_result"
    }
   ],
   "source": [
    "# What GPA constitutes the bottom 15% of the class?\n",
    "\n",
    "grades.ppf(.15)"
   ]
  },
  {
   "cell_type": "code",
   "execution_count": 68,
   "id": "881df9d5",
   "metadata": {},
   "outputs": [
    {
     "data": {
      "text/plain": [
       "(2.7475136299281258, 2.842679846187588)"
      ]
     },
     "execution_count": 68,
     "metadata": {},
     "output_type": "execute_result"
    }
   ],
   "source": [
    "# An eccentric alumnus left scholarship money for students in the third decile from the bottom of their class. \n",
    "# Determine the range of the third decile. Would a student with a 2.8 grade point average qualify for this scholarship?\n",
    "\n",
    "grades.ppf(.2), grades.ppf(.3)\n",
    "\n",
    "# Yes, as the third decile range is 2.74-2.84, a student with a 2.8 GPA would qualify for the scholarship."
   ]
  },
  {
   "cell_type": "code",
   "execution_count": 90,
   "id": "302384e8",
   "metadata": {},
   "outputs": [
    {
     "data": {
      "text/plain": [
       "0.9522096477271853"
      ]
     },
     "execution_count": 90,
     "metadata": {},
     "output_type": "execute_result"
    }
   ],
   "source": [
    "# If I have a GPA of 3.5, what percentile am I in?\n",
    "\n",
    "grades.cdf(3.5)\n",
    "\n",
    "# You are in the 95th percentile."
   ]
  },
  {
   "cell_type": "code",
   "execution_count": 92,
   "id": "0c533a56",
   "metadata": {},
   "outputs": [
    {
     "data": {
      "text/plain": [
       "0.13975823631416445"
      ]
     },
     "execution_count": 92,
     "metadata": {},
     "output_type": "execute_result"
    }
   ],
   "source": [
    "# 3. A marketing website has an average click-through rate of 2%. One day they observe 4326 visitors and 97 \n",
    "# click-throughs. How likely is it that this many people or more click through?\n",
    "\n",
    "stats.binom(4326, .02).sf(96) # 4326 trials with a .02 chance of \"success.\" Then find possibility of 97 or more clickthroughs."
   ]
  },
  {
   "cell_type": "code",
   "execution_count": 63,
   "id": "12c5a563",
   "metadata": {},
   "outputs": [
    {
     "data": {
      "text/plain": [
       "0.45284335760923855"
      ]
     },
     "execution_count": 63,
     "metadata": {},
     "output_type": "execute_result"
    }
   ],
   "source": [
    "# 4. You are working on some statistics homework consisting of 100 questions where all of the answers are a \n",
    "# probability rounded to the hundreths place. Looking to save time, you put down random probabilities as the \n",
    "# answer to each question.\n",
    "\n",
    "# What is the probability that at least one of your first 60 answers is correct?\n",
    "\n",
    "stats.binom(60, .01).sf(0)"
   ]
  },
  {
   "cell_type": "code",
   "execution_count": 69,
   "id": "58dfc55f",
   "metadata": {},
   "outputs": [
    {
     "data": {
      "image/png": "[encoded data removed]",
      "text/plain": [
       "<Figure size 640x480 with 1 Axes>"
      ]
     },
     "metadata": {},
     "output_type": "display_data"
    }
   ],
   "source": [
    "pd.Series(stats.binom(60, .01).rvs(10_000)).plot.hist(bins=10);"
   ]
  },
  {
   "cell_type": "code",
   "execution_count": 28,
   "id": "a60c4b71",
   "metadata": {},
   "outputs": [
    {
     "data": {
      "text/plain": [
       "0.8313618527314045"
      ]
     },
     "execution_count": 28,
     "metadata": {},
     "output_type": "execute_result"
    }
   ],
   "source": [
    "# 5. The codeup staff tends to get upset when the student break area is not cleaned up. Suppose that there's a 3% chance \n",
    "# that any one student cleans the break area when they visit it, and, on any given day, about 90% of the 3 active \n",
    "# cohorts of 22 students visit the break area. How likely is it that the break area gets cleaned up each day? \n",
    "\n",
    "stats.poisson(1.78).sf(0)\n"
   ]
  },
  {
   "cell_type": "code",
   "execution_count": 89,
   "id": "dcaf7391",
   "metadata": {},
   "outputs": [
    {
     "data": {
      "text/plain": [
       "0.028438824714184505"
      ]
     },
     "execution_count": 89,
     "metadata": {},
     "output_type": "execute_result"
    }
   ],
   "source": [
    "# How likely is it that it goes two days without getting cleaned up? \n",
    "\n",
    "stats.poisson((1.78*2)).pmf(0)"
   ]
  },
  {
   "cell_type": "code",
   "execution_count": 88,
   "id": "4881b37f",
   "metadata": {},
   "outputs": [
    {
     "data": {
      "text/plain": [
       "0.0001363889264820114"
      ]
     },
     "execution_count": 88,
     "metadata": {},
     "output_type": "execute_result"
    }
   ],
   "source": [
    "# All week?\n",
    "\n",
    "stats.poisson((1.78*5)).pmf(0)"
   ]
  },
  {
   "cell_type": "code",
   "execution_count": 79,
   "id": "2cc6f89b",
   "metadata": {},
   "outputs": [
    {
     "data": {
      "text/plain": [
       "0.6914624612740131"
      ]
     },
     "execution_count": 79,
     "metadata": {},
     "output_type": "execute_result"
    }
   ],
   "source": [
    "# 6. You want to get lunch at La Panaderia, but notice that the line is usually very long at lunchtime. \n",
    "# After several weeks of careful observation, you notice that the average number of people in line when your lunch \n",
    "# break starts is normally distributed with a mean of 15 and standard deviation of 3. If it takes 2 minutes for each \n",
    "# person to order, and 10 minutes from ordering to getting your food, what is the likelihood that you have at least \n",
    "# 15 minutes left to eat your food before you have to go back to class? Assume you have one hour for lunch, and \n",
    "# ignore travel time to and from La Panaderia.\n",
    "\n",
    "mean_minutes = 30 # 15 people and 2 minutes per person\n",
    "sd_minutes = 6    # 3 people, times two per person, equaling 6 min\n",
    "\n",
    "stats.norm(mean_minutes, sd_minutes).cdf(33) # 33 is taken from the hour (60 mins), minus order, wait, and eating time\n",
    "                                             # 60 - 15 - 10 - 2 = 33 mins that you need available\n",
    "    \n",
    "# cdf because you want the probability that it takes *up to* (i.e. cumulative) 33 min to get through the line.\n",
    "    \n",
    "# 69.14% chance"
   ]
  },
  {
   "cell_type": "code",
   "execution_count": 70,
   "id": "6f649829",
   "metadata": {},
   "outputs": [],
   "source": [
    "# 7. Connect to the employees database and find the average salary of current employees, along with the standard \n",
    "# deviation. For the following questions, calculate the answer based on modeling the employees salaries with a \n",
    "# normal distribution defined by the calculated mean and standard deviation then compare this answer to the actual \n",
    "# values present in the salaries dataset.\n",
    "\n",
    "from env import get_db_url\n",
    "\n",
    "url = get_db_url('employees')\n",
    "\n",
    "salaries = pd.read_sql('SELECT * FROM salaries WHERE to_date > NOW()', url)"
   ]
  },
  {
   "cell_type": "code",
   "execution_count": 71,
   "id": "cbc64cae",
   "metadata": {},
   "outputs": [],
   "source": [
    "salary_dist = stats.norm(salaries.salary.mean(), salaries.salary.std())"
   ]
  },
  {
   "cell_type": "code",
   "execution_count": 72,
   "id": "de2acc29",
   "metadata": {},
   "outputs": [
    {
     "data": {
      "text/plain": [
       "0.24385742480214423"
      ]
     },
     "execution_count": 72,
     "metadata": {},
     "output_type": "execute_result"
    }
   ],
   "source": [
    "# What percent of employees earn less than 60,000?\n",
    "\n",
    "salary_dist.cdf(60000)"
   ]
  },
  {
   "cell_type": "code",
   "execution_count": 73,
   "id": "280a028d",
   "metadata": {},
   "outputs": [
    {
     "data": {
      "text/plain": [
       "0.09208819199804053"
      ]
     },
     "execution_count": 73,
     "metadata": {},
     "output_type": "execute_result"
    }
   ],
   "source": [
    "# What percent of employees earn more than 95,000?\n",
    "\n",
    "salary_dist.sf(95000)"
   ]
  },
  {
   "cell_type": "code",
   "execution_count": 74,
   "id": "305fbf03",
   "metadata": {},
   "outputs": [
    {
     "data": {
      "text/plain": [
       "0.3350605685446666"
      ]
     },
     "execution_count": 74,
     "metadata": {},
     "output_type": "execute_result"
    }
   ],
   "source": [
    "# What percent of employees earn between 65,000 and 80,000?\n",
    "\n",
    "salary_dist.cdf(80000) - salary_dist.cdf(65000) # removes lower bound up to 65000"
   ]
  },
  {
   "cell_type": "code",
   "execution_count": 75,
   "id": "c686e142",
   "metadata": {},
   "outputs": [
    {
     "data": {
      "text/plain": [
       "100484.64454102777"
      ]
     },
     "execution_count": 75,
     "metadata": {},
     "output_type": "execute_result"
    }
   ],
   "source": [
    "# What do the top 5% of employees make?\n",
    "\n",
    "salary_dist.isf(.05)"
   ]
  }
 ],
 "metadata": {
  "kernelspec": {
   "display_name": "Python 3 (ipykernel)",
   "language": "python",
   "name": "python3"
  },
  "language_info": {
   "codemirror_mode": {
    "name": "ipython",
    "version": 3
   },
   "file_extension": ".py",
   "mimetype": "text/x-python",
   "name": "python",
   "nbconvert_exporter": "python",
   "pygments_lexer": "ipython3",
   "version": "3.9.13"
  }
 },
 "nbformat": 4,
 "nbformat_minor": 5
}
