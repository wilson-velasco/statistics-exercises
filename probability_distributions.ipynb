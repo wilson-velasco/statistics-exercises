{
 "cells": [
  {
   "cell_type": "code",
   "execution_count": 1,
   "id": "cebcf62d",
   "metadata": {},
   "outputs": [],
   "source": [
    "import pandas as pd\n",
    "import numpy as np\n",
    "import matplotlib.pyplot as plt\n",
    "from scipy import stats"
   ]
  },
  {
   "cell_type": "code",
   "execution_count": 9,
   "id": "e80a18ad",
   "metadata": {},
   "outputs": [],
   "source": [
    "# 1. A bank found that the average number of cars waiting during the noon hour at a drive-up window follows a Poisson \n",
    "# distribution with a mean of 2 cars. Make a chart of this distribution and answer these questions concerning the \n",
    "# probability of cars waiting at the drive-up window.\n",
    "\n",
    "cars = stats.poisson(2)"
   ]
  },
  {
   "cell_type": "code",
   "execution_count": 10,
   "id": "9afbef27",
   "metadata": {},
   "outputs": [
    {
     "data": {
      "text/plain": [
       "0.1353352832366127"
      ]
     },
     "execution_count": 10,
     "metadata": {},
     "output_type": "execute_result"
    }
   ],
   "source": [
    "# What is the probability that no cars drive up in the noon hour?\n",
    "\n",
    "cars.pmf(0)"
   ]
  },
  {
   "cell_type": "code",
   "execution_count": 11,
   "id": "14f9c55e",
   "metadata": {},
   "outputs": [
    {
     "data": {
      "text/plain": [
       "0.32332358381693654"
      ]
     },
     "execution_count": 11,
     "metadata": {},
     "output_type": "execute_result"
    }
   ],
   "source": [
    "# What is the probability that 3 or more cars come through the drive through?\n",
    "\n",
    "cars.sf(2)"
   ]
  },
  {
   "cell_type": "code",
   "execution_count": 12,
   "id": "3014ee11",
   "metadata": {},
   "outputs": [
    {
     "data": {
      "text/plain": [
       "0.8646647167633873"
      ]
     },
     "execution_count": 12,
     "metadata": {},
     "output_type": "execute_result"
    }
   ],
   "source": [
    "# How likely is it that the drive through gets at least 1 car?\n",
    "\n",
    "cars.sf(0)"
   ]
  },
  {
   "cell_type": "code",
   "execution_count": 14,
   "id": "9a4b5f8d",
   "metadata": {},
   "outputs": [
    {
     "data": {
      "text/plain": [
       "3.4934560880854417"
      ]
     },
     "execution_count": 14,
     "metadata": {},
     "output_type": "execute_result"
    }
   ],
   "source": [
    "# 2. # Grades of State University graduates are normally distributed with a mean of 3.0 and a standard deviation \n",
    "# of .3. Calculate the following:\n",
    "\n",
    "# What grade point average is required to be in the top 5% of the graduating class?\n",
    "\n",
    "mean = 3\n",
    "sd = .3\n",
    "\n",
    "grades = stats.norm(mean, sd)\n",
    "\n",
    "grades.isf(.05)"
   ]
  },
  {
   "cell_type": "code",
   "execution_count": 15,
   "id": "288909f4",
   "metadata": {},
   "outputs": [
    {
     "data": {
      "text/plain": [
       "2.689069983151863"
      ]
     },
     "execution_count": 15,
     "metadata": {},
     "output_type": "execute_result"
    }
   ],
   "source": [
    "# What GPA constitutes the bottom 15% of the class?\n",
    "\n",
    "grades.ppf(.15)"
   ]
  },
  {
   "cell_type": "code",
   "execution_count": 16,
   "id": "b0f7b555",
   "metadata": {},
   "outputs": [
    {
     "data": {
      "text/plain": [
       "2.842679846187588"
      ]
     },
     "execution_count": 16,
     "metadata": {},
     "output_type": "execute_result"
    }
   ],
   "source": [
    "# An eccentric alumnus left scholarship money for students in the third decile from the bottom of their class. \n",
    "# Determine the range of the third decile. Would a student with a 2.8 grade point average qualify for this scholarship?\n",
    "\n",
    "grades.ppf(.3)\n",
    "\n",
    "# Yes, as the third decile is up to 2.84, a student with a 2.8 GPA would qualify for the scholarship."
   ]
  },
  {
   "cell_type": "code",
   "execution_count": 18,
   "id": "c981cf0f",
   "metadata": {},
   "outputs": [
    {
     "data": {
      "text/plain": [
       "0.3315904626424956"
      ]
     },
     "execution_count": 18,
     "metadata": {},
     "output_type": "execute_result"
    }
   ],
   "source": [
    "# If I have a GPA of 3.5, what percentile am I in?\n",
    "\n",
    "grades.pdf(3.5)\n",
    "\n",
    "# You are in the 33rd percentile."
   ]
  },
  {
   "cell_type": "code",
   "execution_count": 21,
   "id": "a37f0906",
   "metadata": {},
   "outputs": [
    {
     "data": {
      "text/plain": [
       "0.32332358381693654"
      ]
     },
     "execution_count": 21,
     "metadata": {},
     "output_type": "execute_result"
    }
   ],
   "source": [
    "# 3. A marketing website has an average click-through rate of 2%. One day they observe 4326 visitors and 97 \n",
    "# click-throughs. How likely is it that this many people or more click through?\n",
    "\n",
    "stats.poisson(2).sf(100*(97/4326)) # 32.33% likely"
   ]
  },
  {
   "cell_type": "code",
   "execution_count": 22,
   "id": "30681e5c",
   "metadata": {},
   "outputs": [
    {
     "data": {
      "text/plain": [
       "0.12123327131180728"
      ]
     },
     "execution_count": 22,
     "metadata": {},
     "output_type": "execute_result"
    }
   ],
   "source": [
    "# 4. You are working on some statistics homework consisting of 100 questions where all of the answers are a \n",
    "# probability rounded to the hundreths place. Looking to save time, you put down random probabilities as the \n",
    "# answer to each question.\n",
    "\n",
    "# What is the probability that at least one of your first 60 answers is correct?\n",
    "\n",
    "stats.binom(60, .01).sf(1)"
   ]
  },
  {
   "cell_type": "code",
   "execution_count": 28,
   "id": "b5818575",
   "metadata": {},
   "outputs": [
    {
     "data": {
      "text/plain": [
       "0.8313618527314045"
      ]
     },
     "execution_count": 28,
     "metadata": {},
     "output_type": "execute_result"
    }
   ],
   "source": [
    "# 5. The codeup staff tends to get upset when the student break area is not cleaned up. Suppose that there's a 3% chance \n",
    "# that any one student cleans the break area when they visit it, and, on any given day, about 90% of the 3 active \n",
    "# cohorts of 22 students visit the break area. How likely is it that the break area gets cleaned up each day? \n",
    "\n",
    "stats.poisson(1.78).sf(0)\n"
   ]
  },
  {
   "cell_type": "code",
   "execution_count": 43,
   "id": "bc8d9cea",
   "metadata": {},
   "outputs": [
    {
     "data": {
      "text/plain": [
       "0.5893442472476546"
      ]
     },
     "execution_count": 43,
     "metadata": {},
     "output_type": "execute_result"
    }
   ],
   "source": [
    "# How likely is it that it goes two days without getting cleaned up? \n",
    "\n",
    "stats.poisson((1.78/2)).sf(0)"
   ]
  },
  {
   "cell_type": "code",
   "execution_count": 44,
   "id": "93df63c3",
   "metadata": {},
   "outputs": [
    {
     "data": {
      "text/plain": [
       "0.2995273797647475"
      ]
     },
     "execution_count": 44,
     "metadata": {},
     "output_type": "execute_result"
    }
   ],
   "source": [
    "# All week?\n",
    "\n",
    "stats.poisson((1.78/5)).sf(0)"
   ]
  },
  {
   "cell_type": "code",
   "execution_count": 29,
   "id": "5f6f43ab",
   "metadata": {},
   "outputs": [
    {
     "data": {
      "text/plain": [
       "0.20232838096364308"
      ]
     },
     "execution_count": 29,
     "metadata": {},
     "output_type": "execute_result"
    }
   ],
   "source": [
    "# 6. You want to get lunch at La Panaderia, but notice that the line is usually very long at lunchtime. \n",
    "# After several weeks of careful observation, you notice that the average number of people in line when your lunch \n",
    "# break starts is normally distributed with a mean of 15 and standard deviation of 3. If it takes 2 minutes for each \n",
    "# person to order, and 10 minutes from ordering to getting your food, what is the likelihood that you have at least \n",
    "# 15 minutes left to eat your food before you have to go back to class? Assume you have one hour for lunch, and \n",
    "# ignore travel time to and from La Panaderia.\n",
    "\n",
    "mean_minutes = 30\n",
    "sd_minutes = 6\n",
    "\n",
    "stats.norm(mean_minutes, sd_minutes).sf(35)\n",
    "\n",
    "# 20.23% chance"
   ]
  },
  {
   "cell_type": "code",
   "execution_count": 33,
   "id": "d283afa6",
   "metadata": {},
   "outputs": [],
   "source": [
    "# 7. Connect to the employees database and find the average salary of current employees, along with the standard \n",
    "# deviation. For the following questions, calculate the answer based on modeling the employees salaries with a \n",
    "# normal distribution defined by the calculated mean and standard deviation then compare this answer to the actual \n",
    "# values present in the salaries dataset.\n",
    "\n",
    "from env import get_db_url\n",
    "\n",
    "url = get_db_url('employees')\n",
    "\n",
    "salaries = pd.read_sql('SELECT * FROM salaries', url)"
   ]
  },
  {
   "cell_type": "code",
   "execution_count": 36,
   "id": "098f4ca8",
   "metadata": {},
   "outputs": [],
   "source": [
    "salary_dist = stats.norm(salaries.salary.mean(), salaries.salary.std())"
   ]
  },
  {
   "cell_type": "code",
   "execution_count": 37,
   "id": "0843bb69",
   "metadata": {},
   "outputs": [
    {
     "data": {
      "text/plain": [
       "0.41082494791346336"
      ]
     },
     "execution_count": 37,
     "metadata": {},
     "output_type": "execute_result"
    }
   ],
   "source": [
    "# What percent of employees earn less than 60,000?\n",
    "\n",
    "salary_dist.cdf(60000)"
   ]
  },
  {
   "cell_type": "code",
   "execution_count": 39,
   "id": "39fea0f3",
   "metadata": {},
   "outputs": [
    {
     "data": {
      "text/plain": [
       "0.03251945131024514"
      ]
     },
     "execution_count": 39,
     "metadata": {},
     "output_type": "execute_result"
    }
   ],
   "source": [
    "# What percent of employees earn more than 95,000?\n",
    "\n",
    "salary_dist.sf(95000)"
   ]
  },
  {
   "cell_type": "code",
   "execution_count": 41,
   "id": "126070c9",
   "metadata": {},
   "outputs": [
    {
     "data": {
      "text/plain": [
       "0.30284302293987486"
      ]
     },
     "execution_count": 41,
     "metadata": {},
     "output_type": "execute_result"
    }
   ],
   "source": [
    "# What percent of employees earn between 65,000 and 80,000?\n",
    "\n",
    "salary_dist.cdf(80000) - salary_dist.cdf(65000)"
   ]
  },
  {
   "cell_type": "code",
   "execution_count": 42,
   "id": "41316bd8",
   "metadata": {},
   "outputs": [
    {
     "data": {
      "text/plain": [
       "91616.71784707883"
      ]
     },
     "execution_count": 42,
     "metadata": {},
     "output_type": "execute_result"
    }
   ],
   "source": [
    "# What do the top 5% of employees make?\n",
    "\n",
    "salary_dist.isf(.05)"
   ]
  }
 ],
 "metadata": {
  "kernelspec": {
   "display_name": "Python 3 (ipykernel)",
   "language": "python",
   "name": "python3"
  },
  "language_info": {
   "codemirror_mode": {
    "name": "ipython",
    "version": 3
   },
   "file_extension": ".py",
   "mimetype": "text/x-python",
   "name": "python",
   "nbconvert_exporter": "python",
   "pygments_lexer": "ipython3",
   "version": "3.9.13"
  }
 },
 "nbformat": 4,
 "nbformat_minor": 5
}
