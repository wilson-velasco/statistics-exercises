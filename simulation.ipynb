{
 "cells": [
  {
   "cell_type": "code",
   "execution_count": 3,
   "id": "a4c91343",
   "metadata": {},
   "outputs": [],
   "source": [
    "import pandas as pd\n",
    "import numpy as np"
   ]
  },
  {
   "cell_type": "code",
   "execution_count": 16,
   "id": "6329bcc5",
   "metadata": {},
   "outputs": [],
   "source": [
    "# 1. How likely is it that you roll doubles when rolling two dice?\n",
    "\n",
    "outcomes = list(range(1,7))\n",
    "outcomes\n",
    "\n",
    "n_trials = 100_000\n",
    "\n",
    "dice_rolls = (np.random.choice(outcomes, n_trials * 2)).reshape(100_000, 2)"
   ]
  },
  {
   "cell_type": "code",
   "execution_count": 17,
   "id": "fc481dd7",
   "metadata": {},
   "outputs": [
    {
     "data": {
      "text/plain": [
       "array([[4, 6],\n",
       "       [2, 1],\n",
       "       [2, 4],\n",
       "       ...,\n",
       "       [1, 4],\n",
       "       [5, 1],\n",
       "       [4, 2]])"
      ]
     },
     "execution_count": 17,
     "metadata": {},
     "output_type": "execute_result"
    }
   ],
   "source": [
    "dice_rolls"
   ]
  },
  {
   "cell_type": "code",
   "execution_count": 51,
   "id": "ad431141",
   "metadata": {},
   "outputs": [],
   "source": [
    "dr = [elem[0]==elem[1] for elem in dice_rolls] #create list to get Boolean values of doubles occurring"
   ]
  },
  {
   "cell_type": "code",
   "execution_count": 57,
   "id": "59ca1c6b",
   "metadata": {},
   "outputs": [
    {
     "data": {
      "text/plain": [
       "0.16648"
      ]
     },
     "execution_count": 57,
     "metadata": {},
     "output_type": "execute_result"
    }
   ],
   "source": [
    "sum(dr)/len(dr)"
   ]
  },
  {
   "cell_type": "code",
   "execution_count": 61,
   "id": "39aae849",
   "metadata": {},
   "outputs": [],
   "source": [
    "# 2. If you flip 8 coins, what is the probability of getting exactly 3 heads? \n",
    "# What is the probability of getting more than 3 heads?\n",
    "\n",
    "H = 1\n",
    "T = 0\n",
    "\n",
    "head_tails = np.random.choice([H,T], [100_000, 8])"
   ]
  },
  {
   "cell_type": "code",
   "execution_count": 68,
   "id": "4701305f",
   "metadata": {},
   "outputs": [
    {
     "data": {
      "text/plain": [
       "0.21899"
      ]
     },
     "execution_count": 68,
     "metadata": {},
     "output_type": "execute_result"
    }
   ],
   "source": [
    "(head_tails.sum(axis=1) == 3).mean() #first part to get Boolean values where exactly three coins were heads. mean()\n",
    "                                    # is to get the probability that it occurs"
   ]
  },
  {
   "cell_type": "code",
   "execution_count": 69,
   "id": "2b8a80be",
   "metadata": {},
   "outputs": [
    {
     "data": {
      "text/plain": [
       "0.63594"
      ]
     },
     "execution_count": 69,
     "metadata": {},
     "output_type": "execute_result"
    }
   ],
   "source": [
    "# For more than 3 heads, just change operand\n",
    "\n",
    "(head_tails.sum(axis=1) > 3).mean()"
   ]
  },
  {
   "cell_type": "code",
   "execution_count": 70,
   "id": "8c744b35",
   "metadata": {},
   "outputs": [],
   "source": [
    "# 3. There are approximitely 3 web development cohorts for every 1 data science cohort at Codeup. \n",
    "# Assuming that Codeup randomly selects an alumni to put on a billboard, what are the odds that the two billboards \n",
    "# I drive past both have data science students on them?\n",
    "\n",
    "WD = 0\n",
    "DS = 1\n",
    "\n",
    "billboard = np.random.choice([WD, WD, WD, DS], [100_000, 2])"
   ]
  },
  {
   "cell_type": "code",
   "execution_count": 72,
   "id": "3ac06df8",
   "metadata": {},
   "outputs": [
    {
     "data": {
      "text/plain": [
       "0.06169"
      ]
     },
     "execution_count": 72,
     "metadata": {},
     "output_type": "execute_result"
    }
   ],
   "source": [
    "(billboard.sum(axis=1) == 2).mean()"
   ]
  },
  {
   "cell_type": "code",
   "execution_count": 86,
   "id": "f14c6482",
   "metadata": {},
   "outputs": [],
   "source": [
    "# 4. Codeup students buy, on average, 3 poptart packages with a standard deviation of 1.5 a day from the snack \n",
    "# vending machine. If on monday the machine is restocked with 17 poptart packages, how likely is it that I will be \n",
    "# able to buy some poptarts on Friday afternoon? \n",
    "\n",
    "# (Remember, if you have mean and standard deviation, use the np.random.normal) You'll need to make a judgement call \n",
    "# on how to handle some of your values\n",
    "\n",
    "daily_pt = np.random.normal(3, 1.5, [100_000,5]) #getting samples of how many poptarts are eaten a day for five days"
   ]
  },
  {
   "cell_type": "code",
   "execution_count": 90,
   "id": "6e2425a0",
   "metadata": {},
   "outputs": [],
   "source": [
    "have_pt = 17 - daily_pt.sum(axis=1) # gets array of how many poptarts are remaining at end of Friday afternoon"
   ]
  },
  {
   "cell_type": "code",
   "execution_count": 91,
   "id": "6e1d6a99",
   "metadata": {},
   "outputs": [
    {
     "data": {
      "text/plain": [
       "0.61688"
      ]
     },
     "execution_count": 91,
     "metadata": {},
     "output_type": "execute_result"
    }
   ],
   "source": [
    "(have_pt >= 1).mean() # gets the probability of whether you can buy at least one poptart by then"
   ]
  },
  {
   "cell_type": "code",
   "execution_count": 92,
   "id": "bb1dd00d",
   "metadata": {},
   "outputs": [
    {
     "data": {
      "text/plain": [
       "array([False, False, False, ..., False,  True, False])"
      ]
     },
     "execution_count": 92,
     "metadata": {},
     "output_type": "execute_result"
    }
   ],
   "source": [
    "# 5. Compare Heights\n",
    "\n",
    "# Men have an average height of 178 cm and standard deviation of 8cm.\n",
    "# Women have a mean of 170, sd = 6cm.\n",
    "# Since you have means and standard deviations, you can use np.random.normal to generate observations.\n",
    "# If a man and woman are chosen at random, what is the likelihood the woman is taller than the man?\n",
    "\n",
    "men = np.random.normal(178, 8, 100_000)\n",
    "women = np.random.normal(170, 6, 100_000)\n",
    "\n",
    "women > men"
   ]
  },
  {
   "cell_type": "code",
   "execution_count": 93,
   "id": "40051769",
   "metadata": {},
   "outputs": [
    {
     "data": {
      "text/plain": [
       "0.21332"
      ]
     },
     "execution_count": 93,
     "metadata": {},
     "output_type": "execute_result"
    }
   ],
   "source": [
    "(women > men).mean()"
   ]
  },
  {
   "cell_type": "code",
   "execution_count": 95,
   "id": "db0bb72e",
   "metadata": {},
   "outputs": [],
   "source": [
    "# When installing anaconda on a student's computer, there's a 1 in 250 chance that the download is corrupted and the \n",
    "# installation fails. What are the odds that after having 50 students download anaconda, no one has an installation \n",
    "# issue? 100 students?\n",
    "\n"
   ]
  },
  {
   "cell_type": "code",
   "execution_count": null,
   "id": "495cd0fb",
   "metadata": {},
   "outputs": [],
   "source": [
    "# What is the probability that we observe an installation issue within the first 150 students that download anaconda?\n"
   ]
  },
  {
   "cell_type": "code",
   "execution_count": null,
   "id": "9e58f2c5",
   "metadata": {},
   "outputs": [],
   "source": [
    "# How likely is it that 450 students all download anaconda without an issue?\n"
   ]
  },
  {
   "cell_type": "code",
   "execution_count": null,
   "id": "4a3197a6",
   "metadata": {},
   "outputs": [],
   "source": [
    "# 7. There's a 70% chance on any given day that there will be at least one food truck at Travis Park. \n",
    "# However, you haven't seen a food truck there in 3 days. How unlikely is this?\n",
    "\n",
    "# How likely is it that a food truck will show up sometime this week?\n"
   ]
  },
  {
   "cell_type": "code",
   "execution_count": null,
   "id": "e05143fc",
   "metadata": {},
   "outputs": [],
   "source": [
    "# 8. If 23 people are in the same room, what are the odds that two of them share a birthday? \n",
    "# What if it's 20 people? 40?"
   ]
  }
 ],
 "metadata": {
  "kernelspec": {
   "display_name": "Python 3 (ipykernel)",
   "language": "python",
   "name": "python3"
  },
  "language_info": {
   "codemirror_mode": {
    "name": "ipython",
    "version": 3
   },
   "file_extension": ".py",
   "mimetype": "text/x-python",
   "name": "python",
   "nbconvert_exporter": "python",
   "pygments_lexer": "ipython3",
   "version": "3.9.13"
  }
 },
 "nbformat": 4,
 "nbformat_minor": 5
}
